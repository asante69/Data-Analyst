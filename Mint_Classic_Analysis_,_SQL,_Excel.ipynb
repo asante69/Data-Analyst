{
  "metadata": {
    "kernelspec": {
      "language": "python",
      "display_name": "Python 3",
      "name": "python3"
    },
    "language_info": {
      "name": "python",
      "version": "3.10.13",
      "mimetype": "text/x-python",
      "codemirror_mode": {
        "name": "ipython",
        "version": 3
      },
      "pygments_lexer": "ipython3",
      "nbconvert_exporter": "python",
      "file_extension": ".py"
    },
    "kaggle": {
      "accelerator": "none",
      "dataSources": [
        {
          "sourceId": 10033116,
          "sourceType": "datasetVersion",
          "datasetId": 6179590
        }
      ],
      "dockerImageVersionId": 30749,
      "isInternetEnabled": true,
      "language": "python",
      "sourceType": "notebook",
      "isGpuEnabled": false
    },
    "colab": {
      "name": "Mint Classic Analysis , SQL, Excel ",
      "provenance": [],
      "include_colab_link": true
    }
  },
  "nbformat_minor": 0,
  "nbformat": 4,
  "cells": [
    {
      "cell_type": "markdown",
      "metadata": {
        "id": "view-in-github",
        "colab_type": "text"
      },
      "source": [
        "<a href=\"https://colab.research.google.com/github/asante69/Data-Analyst/blob/main/Mint_Classic_Analysis_%2C_SQL%2C_Excel.ipynb\" target=\"_parent\"><img src=\"https://colab.research.google.com/assets/colab-badge.svg\" alt=\"Open In Colab\"/></a>"
      ]
    },
    {
      "cell_type": "markdown",
      "source": [
        "# MINT CLASSIC CARS ANALYSIS\n",
        "\n",
        "![](https://mail.google.com/mail/u/0?ui=2&ik=63b4c2d8e1&attid=0.1&permmsgid=msg-a:r7367372396630331396&th=1936efea61c3e1c3&view=fimg&fur=ip&permmsgid=msg-a:r7367372396630331396&sz=s0-l75-ft&attbid=ANGjdJ8CRMh_cG_sEpWbIQiLtOcFG9flwSgh3tnsP1JE1Z4UQJMjNLCgty6wU3M4tv7KQrc_eODFN9-9u8V9n_A84n9wiMVIC2G-nA00iCObr7lVJWZWqe-h1AmGJy8&disp=emb&realattid=ii_m4092nf21&zw)"
      ],
      "metadata": {
        "id": "Vtzlo7QEb8oj"
      }
    },
    {
      "cell_type": "markdown",
      "source": [
        "\n",
        "## Project Purpose\n",
        "\n",
        "This Project is intended to showcase my skill set as an analyst in working with **relational databases , data manipulation and data cleaning using SQL**. I will also be showcasing various skills in **EXCEL to visulize and aggregate data using pivot tables**. For this project I will be using a common analysis procsess used in the data community to help *MINT CLASSICS* (a model car company) **make some data driven decisions**.\n",
        "\n",
        "1. ASK\n",
        "2. PREPARE\n",
        "3. PROCESS\n",
        "4. ANALYZE\n",
        "5. SHARE\n",
        "6. ACT\n"
      ],
      "metadata": {
        "execution": {
          "iopub.status.busy": "2024-11-24T21:04:52.490139Z",
          "iopub.execute_input": "2024-11-24T21:04:52.492618Z",
          "iopub.status.idle": "2024-11-24T21:04:52.626152Z",
          "shell.execute_reply": "2024-11-24T21:04:52.624296Z"
        },
        "id": "t60yWQkLb8ok"
      }
    },
    {
      "cell_type": "markdown",
      "source": [
        "## The Client\n",
        "\n",
        "Mint Classics Company, a retailer of classic model cars and other vehicles, **is looking at closing one of their storage facilities.** To support a data-based business decision, they are looking for **suggestions and recommendations for reorganizing or reducing inventory**, while still maintaining timely service to their customers.\n",
        "\n",
        "## Company Products Overview\n",
        "\n",
        "Mint Classics offers the following product lines of model cars:\n",
        "1. Classic Cars\n",
        "2. Vintage Cars\n",
        "3. Motorcycles\n",
        "4. Planes\n",
        "5. Trucks and Buses\n",
        "6. Ships\n",
        "7. Trains"
      ],
      "metadata": {
        "id": "G6sEX-wmb8ol"
      }
    },
    {
      "cell_type": "markdown",
      "source": [
        "## ASK\n",
        "\n",
        "I have been asked to use MySQL Workbench to familiarize myself with the general business by examining the current data. I was provided with a data model and sample data tables to review. I will be isolating and identifying the parts of the data that could be useful in deciding how to reduce inventory. I will be writing queries to answer questions like these:\n",
        "1. Where are items stored and if they were rearranged, could a warehouse be eliminated?\n",
        "2. How are inventory numbers related to sales figures? Do the inventory counts seem appropriate for each item?\n",
        "3. Are we storing items that are not moving? Are any items candidates for being dropped from the product line?\n",
        "\n",
        "## Project Objectives\n",
        "\n",
        "1. Explore products currently in inventory.\n",
        "2. Determine important factors that may influence inventory reorganization/reduction.\n",
        "3. Provide analytic insights and data-driven recommendations."
      ],
      "metadata": {
        "id": "Uq8rFkm9b8ol"
      }
    },
    {
      "cell_type": "markdown",
      "source": [
        "## PREPARE\n",
        "\n",
        "I have been given access to Mint Classics relational database and relational data model.  \n",
        "Link to data: [Mint Classics Database](https://d3c33hcgiwev3.cloudfront.net/Kk6HcEYrS-23P-RaCeFG2Q_8cc95a70f07644cc9cba5af99ad5b1f1_mintclassicsDB.sql?Expires=1732579200&Signature=D-UjHv-w4rFg289wN-JjORY3Dhn3OmRWAtG~MDYLTIS~3ihKgK8TjoAB0V8nsAJaglD2zqfQL0wfHs4rcZWBSaT3d~4kaCpWNy1S8wNLkvrUD6eCouXjNh~CUkVMWoXHnrZkqDNblo56x7UCOSuFAx4N9EdqGmlB3d6dzP2SE6s_&Key-Pair-Id=APKAJLTNE6QMUY6HBC5A)\n"
      ],
      "metadata": {
        "id": "KYzU3pjFb8ol"
      }
    },
    {
      "cell_type": "markdown",
      "source": [
        "![](https://d3c33hcgiwev3.cloudfront.net/imageAssetProxy.v1/jBRNreo5Sh-41b3l0jBkCw_c3a54862d56945659bdb44bc07a368f1_MintClassicsDataModel.png?expiry=1732838400000&hmac=SqzfmaBrrJUnBkszi1_TwASyuHdeO2pX0bAW3_9nms8)"
      ],
      "metadata": {
        "id": "niH3NmB3b8om"
      }
    },
    {
      "cell_type": "markdown",
      "source": [
        "After examining the data I decided that the following tables will be of the most use to me to answer the questions at hand.  \n",
        "\n",
        "1. orderdetails\n",
        "2. orders\n",
        "3. productlines\n",
        "4. products\n",
        "5. warehouses"
      ],
      "metadata": {
        "id": "0nt4JNLPb8om"
      }
    },
    {
      "cell_type": "markdown",
      "source": [
        "## PROCESS\n",
        "\n",
        "To addres the question regarding warehouse storage I needed the answer to 4 things from the data.  \n",
        "\n",
        "* What is the max stock each warehouse can carry ? 'the capacity'\n",
        "* What is the current stock each warehouse is at? 'current stock on hand'\n",
        "* What is the remaning capacity of each warehouse? 'space avalible for more storage'.\n",
        "\n",
        "In answering these questions im hoping to find a warehouse that is being under utilized and if the stock of another would be able to be consolidated into to one with the space avalible.  \n",
        "\n",
        "To this I will need to perform mulipple SQL functions to gather the appropriate data needed and in the format I want.\n",
        "\n",
        "To find this data I ran the follwoing query that acomplishes the following:\n",
        "\n",
        "* shows me the max stock every warehouse can hold using the  **formula F=P/C** or full capacity = products currently in warehouse / current capacity.\n",
        "* performs the **sum function** to add up the current stock of the warehouse.\n",
        "* subtracts the full capacity of the warehouse from the current capacity to show me how much space is left.\n",
        "* **JOINS** the warehouse and products table to get the data needed.\n",
        "* **GROUPS** the data by warehouse\n",
        "* **ORDERS** the data by remaning capacity or how much space is left with the ware house with the most availble space at the top"
      ],
      "metadata": {
        "id": "FqGj2K6Wb8om"
      }
    },
    {
      "cell_type": "code",
      "source": [
        "SELECT\n",
        "    warehouses.warehouseCode,\n",
        "\n",
        "    floor(sum(quantityInStock)/warehousePctCap *100) as 'max_stock',\n",
        "\n",
        "    sum(quantityInStock) as 'current_Stock',\n",
        "\n",
        "    warehousePctCap,\n",
        "\n",
        "    floor(sum(quantityInStock)/warehousePctCap *100) - sum(quantityInStock) as 'remainingCap'\n",
        "\n",
        "FROM mintclassics.products\n",
        "\n",
        "    JOIN mintclassics.warehouses on warehouses.warehouseCode = products.warehouseCode\n",
        "\n",
        "GROUP BY warehouseCode\n",
        "\n",
        "ORDER BY remainingCap desc ;\n",
        "\n",
        "/* this query run shows the max stock a warehouse could hold , the current amount held , the current capacity of the ware house , and how much space is currently left in that warehouse /*"
      ],
      "metadata": {
        "trusted": true,
        "execution": {
          "iopub.status.busy": "2024-11-27T19:56:54.943927Z",
          "iopub.execute_input": "2024-11-27T19:56:54.94429Z",
          "iopub.status.idle": "2024-11-27T19:56:54.954778Z",
          "shell.execute_reply.started": "2024-11-27T19:56:54.944264Z",
          "shell.execute_reply": "2024-11-27T19:56:54.952663Z"
        },
        "id": "t2pTi6wrb8om"
      },
      "outputs": [],
      "execution_count": null
    },
    {
      "cell_type": "markdown",
      "source": [
        "![](https://mail.google.com/mail/u/0?ui=2&ik=63b4c2d8e1&attid=0.1&permmsgid=msg-a:r-48084865620489810&th=1936e0529aedca5b&view=fimg&fur=ip&permmsgid=msg-a:r-48084865620489810&sz=s0-l75-ft&attbid=ANGjdJ9DfGfw5h5v8t5_MdG15gKgTEhomub-kk9k9gqehk_16QgqmDvnruLLswAxJisJd0O4ubR1Pi6vLfqVyw_OKZLrhhyLgSP7nk4F8o28ga7pggMsu5i3DEGHrgQ&disp=emb&realattid=ii_m3zzckwf0&zw)"
      ],
      "metadata": {
        "id": "Lh0-mRIeb8on"
      }
    },
    {
      "cell_type": "markdown",
      "source": [
        "### To next addres the questions reagrding stock and product lines. I will be running a query to give me a breakdown by year of the prodcut lines. I want to seew how many orders were made for each product line each year , how many pieces those orders equate to (individual pieces sold), and the big question **HOW MUCH REVENUE DID EACH PRODCUT LINE BRING IN?**\n",
        "\n",
        "\n",
        "below is the QUERY i ran."
      ],
      "metadata": {
        "id": "d0-DJXkSb8on"
      }
    },
    {
      "cell_type": "code",
      "source": [
        "SELECT\n",
        "    YEAR(orders.orderDate) AS year,\n",
        "    products.productLine,\n",
        "    COUNT(*) AS total_orders_made,\n",
        "    sum(quantityOrdered) as individual_pieces_sold,\n",
        "    sum(buyPrice) as revenue\n",
        "FROM\n",
        "    mintclassics.orders\n",
        "JOIN\n",
        "    mintclassics.orderdetails ON orderdetails.orderNumber = orders.orderNumber\n",
        "JOIN\n",
        "    mintclassics.products ON products.productCode = orderdetails.productCode\n",
        "GROUP BY\n",
        "    YEAR(orders.orderDate),\n",
        "    products.productLine\n",
        "ORDER BY\n",
        "    year,\n",
        "    products.productLine;\n",
        "/*\n",
        "Explanation\n",
        "SELECT YEAR(orders.orderDate) AS year, products.productLine, COUNT(*) AS total_sold: Selects the year, product line, and counts the total number of sales for each product line per year.\n",
        "\n",
        "FROM mintclassics.orders: Specifies the primary table.\n",
        "\n",
        "JOIN mintclassics.orderdetails ON orderdetails.orderNumber = orders.orderNumber: Joins the orderdetails table with the orders table based on the orderNumber.\n",
        "\n",
        "JOIN mintclassics.products ON products.productCode = orderdetails.productCode: Joins the products table with the orderdetails table based on the productCode.\n",
        "\n",
        "GROUP BY YEAR(orders.orderDate), products.productLine: Groups the results by year and product line.\n",
        "\n",
        "ORDER BY year, products.productLine: Orders the results by year and product line for better readability.\n",
        "/*\n"
      ],
      "metadata": {
        "trusted": true,
        "execution": {
          "iopub.status.busy": "2024-11-27T19:57:09.556564Z",
          "iopub.execute_input": "2024-11-27T19:57:09.556918Z",
          "iopub.status.idle": "2024-11-27T19:57:09.570211Z",
          "shell.execute_reply.started": "2024-11-27T19:57:09.556889Z",
          "shell.execute_reply": "2024-11-27T19:57:09.568815Z"
        },
        "id": "d3gnFd3Ub8on"
      },
      "outputs": [],
      "execution_count": null
    },
    {
      "cell_type": "markdown",
      "source": [
        "![](https://mail.google.com/mail/u/0?ui=2&ik=63b4c2d8e1&attid=0.1&permmsgid=msg-a:r7300613280346431962&th=1936e261e37df786&view=fimg&fur=ip&permmsgid=msg-a:r7300613280346431962&sz=s0-l75-ft&attbid=ANGjdJ9pizaOY5hBrIIm1-f-C8-9fpaPv7S4nhtyKsBmGeL2xMP6gS4OFayw3iAGpelcjggPRk-ct6W-uLOv79OIYDu_JzM_TsN1e5e-D8MxU6S4Ec-4jbws0PWJyg4&disp=emb&realattid=ii_m400mwjm0&zw)"
      ],
      "metadata": {
        "id": "pYqIAQ92b8oo"
      }
    },
    {
      "cell_type": "markdown",
      "source": [
        "I also felt it would be helpful to have a quick summary of **how much of each prodcut line is currently in stock and how much of that product line has beeen ordered**. I ran the follwoing querys to pull that information from the dataset."
      ],
      "metadata": {
        "id": "5_pS2DCYb8oo"
      }
    },
    {
      "cell_type": "code",
      "source": [
        "SELECT sum(quantityInStock),\n",
        "productLine\n",
        "\n",
        " FROM mintclassics.products\n",
        "\n",
        "group by productLine\n",
        "\n",
        "order by sum(quantityInStock) DESC;\n",
        "\n",
        "/* this is the query run to find much of each product line is currently held in stock /*\n",
        "\n",
        "\n",
        "----------------------------------------------------------------------------------\n",
        "\n",
        "\n",
        "SELECT sum(quantityOrdered) ,\n",
        "\n",
        "productLine\n",
        "\n",
        "FROM mintclassics.orderdetails\n",
        "\n",
        "join mintclassics.products on products.productCode = orderdetails.productCode\n",
        "\n",
        "group by productLine\n",
        "\n",
        "order by sum(quantityOrdered) DESC;\n",
        "\n",
        "/* This is the query run to find the amount of orders made per procuct line /*\n"
      ],
      "metadata": {
        "trusted": true,
        "execution": {
          "iopub.status.busy": "2024-11-27T19:29:59.007918Z",
          "iopub.execute_input": "2024-11-27T19:29:59.011717Z",
          "iopub.status.idle": "2024-11-27T19:29:59.182878Z",
          "shell.execute_reply": "2024-11-27T19:29:59.178997Z"
        },
        "id": "hTMWgUBHb8oo"
      },
      "outputs": [],
      "execution_count": null
    },
    {
      "cell_type": "markdown",
      "source": [
        "![](https://mail.google.com/mail/u/0?ui=2&ik=63b4c2d8e1&attid=0.1&permmsgid=msg-a:r1820782123811633277&th=1936e7a65f94c421&view=fimg&fur=ip&permmsgid=msg-a:r1820782123811633277&sz=s0-l75-ft&attbid=ANGjdJ-df9okyclOJ0EDnQxr3J2I3UO1E5YJDtLsoe57hkT23NKMI1CaMnvRzmlwxysP5r4SlCngz01m4Yx9rpn-JXEHs15h2L9obyOkwJ4FT3vgW4vv5G1mMUwoomQ&disp=emb&realattid=ii_m403w6wy0&zw)"
      ],
      "metadata": {
        "id": "Ibyb7YNZb8oo"
      }
    },
    {
      "cell_type": "markdown",
      "source": [
        "![](https://mail.google.com/mail/u/0?ui=2&ik=63b4c2d8e1&attid=0.2&permmsgid=msg-a:r1820782123811633277&th=1936e7a65f94c421&view=fimg&fur=ip&permmsgid=msg-a:r1820782123811633277&sz=s0-l75-ft&attbid=ANGjdJ8nTBWOXiz-sCAhNfSfJdqBNBmTF7-nrVJ2ZBraQAxQIwfbtUlG6fjc6auBy0cEArHPnXPUncBsEmyiDqTNVE_1UvrDvJyiwq4GW7tddKbUn1Rji2t3noWEjZI&disp=emb&realattid=ii_m403x9k11&zw)"
      ],
      "metadata": {
        "id": "jvI5dMYZb8oo"
      }
    },
    {
      "cell_type": "markdown",
      "source": [
        "## ANALYZE  \n",
        "\n",
        "After gathering all the data needed to answer the questions asked of me i made the following observations that will be curtial in my analysis.\n",
        "\n",
        "* **Warehouse C an B** are the **largest warhouses avalible to the company**, **and are also the most underutilized.** standing at 50% and 67% full\n",
        "* If current stock is properly organized the **'current stock' of both warehouse A and D could be consolidated into the 'remaining capacity' of C and B** closing not only one warehouse but two.\n",
        "*  **The 'Trains' product line has underperformed** for the duration of the smaple dataset given to me, and would be a good canidate for a possible cancellation of this line.\n",
        "*  **The 'Classic Cars' and 'Vintage Cars' lines have been the most profitiable**, so contiuning to cater to these customers and market these models would be wise."
      ],
      "metadata": {
        "id": "hmBevUDmb8oo"
      }
    },
    {
      "cell_type": "markdown",
      "source": [
        "## SHARE\n",
        "\n",
        "To share my findindgs with my stakeholders i created a few visulazations to illistrate the main points of my analysis.\n",
        "\n",
        "The following chaat clearly shows that the **current products of Warehouse A&D can be consilidated into The availble space of Warehouses C&B**\n",
        "\n",
        "![](https://mail.google.com/mail/u/0?ui=2&ik=63b4c2d8e1&attid=0.1&permmsgid=msg-a:r-3014474775567431214&th=1936eca9083e1814&view=fimg&fur=ip&permmsgid=msg-a:r-3014474775567431214&sz=s0-l75-ft&attbid=ANGjdJ_tobUvkIiTJkvzhDkl6epv-ISgfIqPJ0Wl6zWqX3kahVRcgfKkWWZLnrr5XR0i6aGj4cXkuMXJilvLtfGzq2SXvbdagEydhxTQ8L5CUyKajYaL-B6fLKWQeBE&disp=emb&realattid=ii_m4070xuy0&zw)"
      ],
      "metadata": {
        "id": "1ktnrI_0b8oo"
      }
    },
    {
      "cell_type": "markdown",
      "source": [
        "Next i created a chart to show how the **'Trains' product line has underperformed** over the course of the data given to me, and **how well the 'classic cars' line had performed.**  The conclusioins can clearly be made based off of the bar chart and acompaning piviot table.\n",
        "\n",
        "![](https://mail.google.com/mail/u/0?ui=2&ik=63b4c2d8e1&attid=0.1&permmsgid=msg-a:r-4107032378398215738&th=1936ed5f7966faf3&view=fimg&fur=ip&permmsgid=msg-a:r-4107032378398215738&sz=s0-l75-ft&attbid=ANGjdJ82EUryQF5kMv0JN0HwJ3qmGlQu4KmjFof2JoZbgG1pvGmCSPulMLIOKuPrfyYWWI0zAGpX77kdwJUCwHGmMefJNdTfJlXlvjbKsq00cj4M_FikzuvoCWk2Aj4&disp=emb&realattid=ii_m407hlhr0&zw)"
      ],
      "metadata": {
        "id": "qjLxEOdLb8oo"
      }
    },
    {
      "cell_type": "markdown",
      "source": [
        "## ACT\n",
        "\n",
        "Based of the alalysis I performed I would make the following data driven recommendations to optimize the companys allocation of resources.\n",
        "\n",
        "1. At the minimum, **Close WAREHOUSE D**. It currently houses the 3 most unpopular product lines and its contents can be moved to a more underutilized Warehouse like Warehouse C which is currently only 50% full.\n",
        "2. **Shut down the 'Trains' product line**. It has underperformed for the entire duration of the dataset and it not worth the cost to continue to store and ship the prodcut.\n",
        "3. **Promote and Markket the 'Classic Car' prodcut line**. This line **accounts for more than 67% of the revenue** for the company over the past 3 years.\n",
        "\n"
      ],
      "metadata": {
        "id": "47vR7uGRb8oo"
      }
    },
    {
      "cell_type": "markdown",
      "source": [
        "*If you have made it this far in my analysis thank you so much for taking a look at my work. It means alot! Please reach out if you havae thoughts or recommendations. Im always open for feedback from more experienced analyst. Thanks again for your time.*"
      ],
      "metadata": {
        "id": "F2Q-831wb8oo"
      }
    }
  ]
}